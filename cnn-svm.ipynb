{
 "cells": [
  {
   "cell_type": "code",
   "execution_count": null,
   "id": "7fc202bc",
   "metadata": {
    "_cell_guid": "b1076dfc-b9ad-4769-8c92-a6c4dae69d19",
    "_uuid": "8f2839f25d086af736a60e9eeb907d3b93b6e0e5",
    "execution": {
     "iopub.execute_input": "2025-05-22T08:53:39.312811Z",
     "iopub.status.busy": "2025-05-22T08:53:39.312612Z",
     "iopub.status.idle": "2025-05-22T08:53:40.690912Z",
     "shell.execute_reply": "2025-05-22T08:53:40.690158Z"
    },
    "papermill": {
     "duration": 1.38246,
     "end_time": "2025-05-22T08:53:40.692424",
     "exception": false,
     "start_time": "2025-05-22T08:53:39.309964",
     "status": "completed"
    },
    "tags": []
   },
   "outputs": [],
   "source": [
    "\n",
    "\n",
    "import numpy as np # linear algebra\n",
    "import pandas as pd # data processing, CSV file I/O (e.g. pd.read_csv)\n",
    "\n",
    "import os\n",
    "for dirname, _, filenames in os.walk('/kaggle/input'):\n",
    "    for filename in filenames:\n",
    "        print(os.path.join(dirname, filename))\n"
   ]
  },
  {
   "cell_type": "code",
   "execution_count": 2,
   "id": "b3f8330d",
   "metadata": {
    "execution": {
     "iopub.execute_input": "2025-05-22T08:53:40.696787Z",
     "iopub.status.busy": "2025-05-22T08:53:40.696512Z",
     "iopub.status.idle": "2025-05-22T08:53:54.936950Z",
     "shell.execute_reply": "2025-05-22T08:53:54.936345Z"
    },
    "papermill": {
     "duration": 14.243754,
     "end_time": "2025-05-22T08:53:54.938238",
     "exception": false,
     "start_time": "2025-05-22T08:53:40.694484",
     "status": "completed"
    },
    "tags": []
   },
   "outputs": [
    {
     "name": "stderr",
     "output_type": "stream",
     "text": [
      "2025-05-22 08:53:42.586108: E external/local_xla/xla/stream_executor/cuda/cuda_fft.cc:477] Unable to register cuFFT factory: Attempting to register factory for plugin cuFFT when one has already been registered\n",
      "WARNING: All log messages before absl::InitializeLog() is called are written to STDERR\n",
      "E0000 00:00:1747904022.782531      19 cuda_dnn.cc:8310] Unable to register cuDNN factory: Attempting to register factory for plugin cuDNN when one has already been registered\n",
      "E0000 00:00:1747904022.842414      19 cuda_blas.cc:1418] Unable to register cuBLAS factory: Attempting to register factory for plugin cuBLAS when one has already been registered\n"
     ]
    }
   ],
   "source": [
    "import numpy as np\n",
    "from tensorflow.keras.models import Model\n",
    "from tensorflow.keras.layers import Input, Conv2D, MaxPooling2D, Flatten, Dense, Dropout\n",
    "from tensorflow.keras.datasets import mnist\n",
    "from sklearn.svm import SVC\n",
    "from sklearn.model_selection import GridSearchCV\n",
    "from sklearn.pipeline import Pipeline\n",
    "from sklearn.preprocessing import StandardScaler\n",
    "from sklearn.metrics import classification_report\n",
    "import tensorflow as tf\n",
    "import warnings\n",
    "warnings.filterwarnings('ignore')"
   ]
  },
  {
   "cell_type": "code",
   "execution_count": 3,
   "id": "67e9a808",
   "metadata": {
    "execution": {
     "iopub.execute_input": "2025-05-22T08:53:54.942765Z",
     "iopub.status.busy": "2025-05-22T08:53:54.942387Z",
     "iopub.status.idle": "2025-05-22T08:53:55.434373Z",
     "shell.execute_reply": "2025-05-22T08:53:55.433749Z"
    },
    "papermill": {
     "duration": 0.495661,
     "end_time": "2025-05-22T08:53:55.435745",
     "exception": false,
     "start_time": "2025-05-22T08:53:54.940084",
     "status": "completed"
    },
    "tags": []
   },
   "outputs": [
    {
     "name": "stdout",
     "output_type": "stream",
     "text": [
      "Downloading data from https://storage.googleapis.com/tensorflow/tf-keras-datasets/mnist.npz\n",
      "\u001b[1m11490434/11490434\u001b[0m \u001b[32m━━━━━━━━━━━━━━━━━━━━\u001b[0m\u001b[37m\u001b[0m \u001b[1m0s\u001b[0m 0us/step\n"
     ]
    }
   ],
   "source": [
    "# === Load MNIST dataset ===\n",
    "(x_train, y_train), (x_test, y_test) = mnist.load_data()\n",
    "x_train = x_train.astype(\"float32\") / 255.\n",
    "x_test = x_test.astype(\"float32\") / 255.\n",
    "x_train = np.expand_dims(x_train, axis=-1)  # (60000, 28, 28, 1)\n",
    "x_test = np.expand_dims(x_test, axis=-1)    # (10000, 28, 28, 1)"
   ]
  },
  {
   "cell_type": "code",
   "execution_count": 4,
   "id": "69a4a019",
   "metadata": {
    "execution": {
     "iopub.execute_input": "2025-05-22T08:53:55.441036Z",
     "iopub.status.busy": "2025-05-22T08:53:55.440719Z",
     "iopub.status.idle": "2025-05-22T08:53:55.446282Z",
     "shell.execute_reply": "2025-05-22T08:53:55.445503Z"
    },
    "papermill": {
     "duration": 0.009862,
     "end_time": "2025-05-22T08:53:55.447706",
     "exception": false,
     "start_time": "2025-05-22T08:53:55.437844",
     "status": "completed"
    },
    "tags": []
   },
   "outputs": [],
   "source": [
    "# === Create CNN feature extractor ===\n",
    "def create_cnn_model(conv1_filters=6, conv2_filters=12, kernel_size=(5,5),\n",
    "                     dense_units=100, dropout_rate=0.5, hidden_units=64, activation='relu'):\n",
    "    input_img = Input(shape=(28, 28, 1))\n",
    "    x = Conv2D(conv1_filters, kernel_size, activation=activation)(input_img)\n",
    "    x = MaxPooling2D(pool_size=(2, 2))(x)\n",
    "    x = Conv2D(conv2_filters, kernel_size, activation=activation)(x)\n",
    "    x = MaxPooling2D(pool_size=(2, 2))(x)\n",
    "    x = Flatten()(x)\n",
    "    x = Dense(dense_units, activation=activation)(x)\n",
    "    x = Dropout(dropout_rate)(x)\n",
    "    feature_output = Dense(hidden_units, activation=activation)(x)\n",
    "    model = Model(inputs=input_img, outputs=feature_output)\n",
    "    return model"
   ]
  },
  {
   "cell_type": "code",
   "execution_count": null,
   "id": "cfb43382",
   "metadata": {
    "execution": {
     "iopub.execute_input": "2025-05-22T08:53:55.452441Z",
     "iopub.status.busy": "2025-05-22T08:53:55.452213Z",
     "iopub.status.idle": "2025-05-22T08:53:55.456974Z",
     "shell.execute_reply": "2025-05-22T08:53:55.456265Z"
    },
    "papermill": {
     "duration": 0.008798,
     "end_time": "2025-05-22T08:53:55.458407",
     "exception": false,
     "start_time": "2025-05-22T08:53:55.449609",
     "status": "completed"
    },
    "tags": []
   },
   "outputs": [],
   "source": [
    "# hyperparameter grid for CNN and SVM\n",
    "from itertools import product\n",
    "\n",
    "cnn_param_grid = {\n",
    "    'conv1_filters': [8, 16],\n",
    "    'conv2_filters': [16, 32],\n",
    "    'kernel_size': [(3, 3), (5, 5)],\n",
    "    'dense_units': [100],\n",
    "    'dropout_rate': [0.5],\n",
    "    'activation': ['relu'],\n",
    "    'hidden_units': [64],\n",
    "}\n",
    "# \n",
    "svm_param_grid = {\n",
    "    'C': [0.5, 1, 10],\n",
    "    'gamma': ['scale', 0.1, 1]\n",
    "}\n"
   ]
  },
  {
   "cell_type": "code",
   "execution_count": 6,
   "id": "9f39e75f",
   "metadata": {
    "execution": {
     "iopub.execute_input": "2025-05-22T08:53:55.462431Z",
     "iopub.status.busy": "2025-05-22T08:53:55.462256Z",
     "iopub.status.idle": "2025-05-22T19:14:34.746720Z",
     "shell.execute_reply": "2025-05-22T19:14:34.745945Z"
    },
    "papermill": {
     "duration": 37239.291336,
     "end_time": "2025-05-22T19:14:34.751427",
     "exception": false,
     "start_time": "2025-05-22T08:53:55.460091",
     "status": "completed"
    },
    "tags": []
   },
   "outputs": [
    {
     "name": "stdout",
     "output_type": "stream",
     "text": [
      "[INFO] Total CNN configurations to try: 8\n",
      "\n",
      "[INFO] Training CNN with config: {'conv1_filters': 8, 'conv2_filters': 16, 'kernel_size': (3, 3), 'dense_units': 100, 'dropout_rate': 0.5, 'activation': 'relu', 'hidden_units': 64}\n"
     ]
    },
    {
     "name": "stderr",
     "output_type": "stream",
     "text": [
      "I0000 00:00:1747904036.667956      19 gpu_device.cc:2022] Created device /job:localhost/replica:0/task:0/device:GPU:0 with 13942 MB memory:  -> device: 0, name: Tesla T4, pci bus id: 0000:00:04.0, compute capability: 7.5\n",
      "I0000 00:00:1747904036.668664      19 gpu_device.cc:2022] Created device /job:localhost/replica:0/task:0/device:GPU:1 with 13942 MB memory:  -> device: 1, name: Tesla T4, pci bus id: 0000:00:05.0, compute capability: 7.5\n",
      "WARNING: All log messages before absl::InitializeLog() is called are written to STDERR\n",
      "I0000 00:00:1747904038.509483      62 service.cc:148] XLA service 0x791e2c004720 initialized for platform CUDA (this does not guarantee that XLA will be used). Devices:\n",
      "I0000 00:00:1747904038.510233      62 service.cc:156]   StreamExecutor device (0): Tesla T4, Compute Capability 7.5\n",
      "I0000 00:00:1747904038.510251      62 service.cc:156]   StreamExecutor device (1): Tesla T4, Compute Capability 7.5\n",
      "I0000 00:00:1747904038.598822      62 cuda_dnn.cc:529] Loaded cuDNN version 90300\n",
      "I0000 00:00:1747904039.640994      62 device_compiler.h:188] Compiled cluster using XLA!  This line is logged at most once for the lifetime of the process.\n"
     ]
    },
    {
     "name": "stdout",
     "output_type": "stream",
     "text": [
      "[INFO] Performing SVM grid search (RBF Kernel)\n",
      "[INFO] CNN Config = {'conv1_filters': 8, 'conv2_filters': 16, 'kernel_size': (3, 3), 'dense_units': 100, 'dropout_rate': 0.5, 'activation': 'relu', 'hidden_units': 64}, SVM Best Params = {'C': 10, 'gamma': 'scale'}, Test Accuracy = 0.9456\n",
      "\n",
      "[INFO] Training CNN with config: {'conv1_filters': 8, 'conv2_filters': 16, 'kernel_size': (5, 5), 'dense_units': 100, 'dropout_rate': 0.5, 'activation': 'relu', 'hidden_units': 64}\n",
      "[INFO] Performing SVM grid search (RBF Kernel)\n",
      "[INFO] CNN Config = {'conv1_filters': 8, 'conv2_filters': 16, 'kernel_size': (5, 5), 'dense_units': 100, 'dropout_rate': 0.5, 'activation': 'relu', 'hidden_units': 64}, SVM Best Params = {'C': 10, 'gamma': 'scale'}, Test Accuracy = 0.9305\n",
      "\n",
      "[INFO] Training CNN with config: {'conv1_filters': 8, 'conv2_filters': 32, 'kernel_size': (3, 3), 'dense_units': 100, 'dropout_rate': 0.5, 'activation': 'relu', 'hidden_units': 64}\n",
      "[INFO] Performing SVM grid search (RBF Kernel)\n",
      "[INFO] CNN Config = {'conv1_filters': 8, 'conv2_filters': 32, 'kernel_size': (3, 3), 'dense_units': 100, 'dropout_rate': 0.5, 'activation': 'relu', 'hidden_units': 64}, SVM Best Params = {'C': 10, 'gamma': 'scale'}, Test Accuracy = 0.9403\n",
      "\n",
      "[INFO] Training CNN with config: {'conv1_filters': 8, 'conv2_filters': 32, 'kernel_size': (5, 5), 'dense_units': 100, 'dropout_rate': 0.5, 'activation': 'relu', 'hidden_units': 64}\n",
      "[INFO] Performing SVM grid search (RBF Kernel)\n",
      "[INFO] CNN Config = {'conv1_filters': 8, 'conv2_filters': 32, 'kernel_size': (5, 5), 'dense_units': 100, 'dropout_rate': 0.5, 'activation': 'relu', 'hidden_units': 64}, SVM Best Params = {'C': 10, 'gamma': 'scale'}, Test Accuracy = 0.8923\n",
      "\n",
      "[INFO] Training CNN with config: {'conv1_filters': 16, 'conv2_filters': 16, 'kernel_size': (3, 3), 'dense_units': 100, 'dropout_rate': 0.5, 'activation': 'relu', 'hidden_units': 64}\n",
      "[INFO] Performing SVM grid search (RBF Kernel)\n",
      "[INFO] CNN Config = {'conv1_filters': 16, 'conv2_filters': 16, 'kernel_size': (3, 3), 'dense_units': 100, 'dropout_rate': 0.5, 'activation': 'relu', 'hidden_units': 64}, SVM Best Params = {'C': 10, 'gamma': 'scale'}, Test Accuracy = 0.9429\n",
      "\n",
      "[INFO] Training CNN with config: {'conv1_filters': 16, 'conv2_filters': 16, 'kernel_size': (5, 5), 'dense_units': 100, 'dropout_rate': 0.5, 'activation': 'relu', 'hidden_units': 64}\n",
      "[INFO] Performing SVM grid search (RBF Kernel)\n",
      "[INFO] CNN Config = {'conv1_filters': 16, 'conv2_filters': 16, 'kernel_size': (5, 5), 'dense_units': 100, 'dropout_rate': 0.5, 'activation': 'relu', 'hidden_units': 64}, SVM Best Params = {'C': 10, 'gamma': 'scale'}, Test Accuracy = 0.9321\n",
      "\n",
      "[INFO] Training CNN with config: {'conv1_filters': 16, 'conv2_filters': 32, 'kernel_size': (3, 3), 'dense_units': 100, 'dropout_rate': 0.5, 'activation': 'relu', 'hidden_units': 64}\n",
      "[INFO] Performing SVM grid search (RBF Kernel)\n",
      "[INFO] CNN Config = {'conv1_filters': 16, 'conv2_filters': 32, 'kernel_size': (3, 3), 'dense_units': 100, 'dropout_rate': 0.5, 'activation': 'relu', 'hidden_units': 64}, SVM Best Params = {'C': 10, 'gamma': 'scale'}, Test Accuracy = 0.9307\n",
      "\n",
      "[INFO] Training CNN with config: {'conv1_filters': 16, 'conv2_filters': 32, 'kernel_size': (5, 5), 'dense_units': 100, 'dropout_rate': 0.5, 'activation': 'relu', 'hidden_units': 64}\n",
      "[INFO] Performing SVM grid search (RBF Kernel)\n",
      "[INFO] CNN Config = {'conv1_filters': 16, 'conv2_filters': 32, 'kernel_size': (5, 5), 'dense_units': 100, 'dropout_rate': 0.5, 'activation': 'relu', 'hidden_units': 64}, SVM Best Params = {'C': 10, 'gamma': 'scale'}, Test Accuracy = 0.9007\n"
     ]
    }
   ],
   "source": [
    "# === Keep best model and config ===\n",
    "best_score = 0\n",
    "best_model = None\n",
    "best_config = None\n",
    "best_features_test = None\n",
    "\n",
    "# === Generate all combinations of CNN hyperparameters ===\n",
    "cnn_keys = list(cnn_param_grid.keys())\n",
    "cnn_values = list(cnn_param_grid.values())\n",
    "cnn_param_combinations = list(product(*cnn_values))\n",
    "\n",
    "print(f\"[INFO] Total CNN configurations to try: {len(cnn_param_combinations)}\")\n",
    "\n",
    "for cnn_params in cnn_param_combinations:\n",
    "    config = dict(zip(cnn_keys, cnn_params))\n",
    "    print(f\"\\n[INFO] Training CNN with config: {config}\")\n",
    "\n",
    "    # Build and run CNN\n",
    "    cnn = create_cnn_model(**config)\n",
    "    features_train = cnn.predict(x_train, batch_size=64, verbose=0)\n",
    "    features_test = cnn.predict(x_test, batch_size=64, verbose=0)\n",
    "\n",
    "    # Normalize\n",
    "    scaler = StandardScaler()\n",
    "    features_train_scaled = scaler.fit_transform(features_train)\n",
    "    features_test_scaled = scaler.transform(features_test)\n",
    "\n",
    "    # Train SVM with Grid Search\n",
    "    print(f\"[INFO] Performing SVM grid search (RBF Kernel)\")\n",
    "    svm = SVC(kernel='rbf')\n",
    "    clf = GridSearchCV(svm, svm_param_grid, cv=4, verbose=0, n_jobs=-1)\n",
    "    clf.fit(features_train_scaled, y_train)\n",
    "\n",
    "    acc = clf.score(features_test_scaled, y_test)\n",
    "    print(f\"[INFO] CNN Config = {config}, SVM Best Params = {clf.best_params_}, Test Accuracy = {acc:.4f}\")\n",
    "\n",
    "    # Keep best model\n",
    "    if acc > best_score:\n",
    "        best_score = acc\n",
    "        best_model = clf\n",
    "        best_config = {\n",
    "            'cnn_params': config,\n",
    "            'svm_params': clf.best_params_\n",
    "        }\n",
    "        best_features_test = features_test_scaled\n",
    "\n"
   ]
  },
  {
   "cell_type": "code",
   "execution_count": 7,
   "id": "2301bfe9",
   "metadata": {
    "execution": {
     "iopub.execute_input": "2025-05-22T19:14:34.757937Z",
     "iopub.status.busy": "2025-05-22T19:14:34.757662Z",
     "iopub.status.idle": "2025-05-22T19:14:48.126741Z",
     "shell.execute_reply": "2025-05-22T19:14:48.126008Z"
    },
    "papermill": {
     "duration": 13.373743,
     "end_time": "2025-05-22T19:14:48.128027",
     "exception": false,
     "start_time": "2025-05-22T19:14:34.754284",
     "status": "completed"
    },
    "tags": []
   },
   "outputs": [
    {
     "name": "stdout",
     "output_type": "stream",
     "text": [
      "\n",
      "===== FINAL REPORT =====\n",
      "\n",
      "=== Best Accuracy: 0.9456 ===\n",
      "Best CNN Config: {'conv1_filters': 8, 'conv2_filters': 16, 'kernel_size': (3, 3), 'dense_units': 100, 'dropout_rate': 0.5, 'activation': 'relu', 'hidden_units': 64}\n",
      "Best SVM Config: {'C': 10, 'gamma': 'scale'}\n",
      "Classification Report on MNIST Test Set:\n",
      "              precision    recall  f1-score   support\n",
      "\n",
      "           0       0.97      0.98      0.97       980\n",
      "           1       0.98      0.99      0.99      1135\n",
      "           2       0.95      0.95      0.95      1032\n",
      "           3       0.93      0.93      0.93      1010\n",
      "           4       0.92      0.92      0.92       982\n",
      "           5       0.93      0.93      0.93       892\n",
      "           6       0.97      0.96      0.96       958\n",
      "           7       0.95      0.93      0.94      1028\n",
      "           8       0.93      0.92      0.92       974\n",
      "           9       0.91      0.93      0.92      1009\n",
      "\n",
      "    accuracy                           0.95     10000\n",
      "   macro avg       0.95      0.94      0.94     10000\n",
      "weighted avg       0.95      0.95      0.95     10000\n",
      "\n"
     ]
    }
   ],
   "source": [
    "# === Final Evaluation ===\n",
    "print(\"\\n===== FINAL REPORT =====\")\n",
    "print(f\"\\n=== Best Accuracy: {best_score:.4f} ===\")\n",
    "print(f\"Best CNN Config: {best_config['cnn_params']}\")\n",
    "print(f\"Best SVM Config: {best_config['svm_params']}\")\n",
    "\n",
    "y_pred = best_model.predict(best_features_test)\n",
    "print(\"Classification Report on MNIST Test Set:\")\n",
    "print(classification_report(y_test, y_pred))\n"
   ]
  },
  {
   "cell_type": "markdown",
   "id": "045633d7",
   "metadata": {},
   "source": [
    "# Result"
   ]
  }
 ],
 "metadata": {
  "kaggle": {
   "accelerator": "nvidiaTeslaT4",
   "dataSources": [],
   "dockerImageVersionId": 31041,
   "isGpuEnabled": true,
   "isInternetEnabled": true,
   "language": "python",
   "sourceType": "notebook"
  },
  "kernelspec": {
   "display_name": "Python 3",
   "language": "python",
   "name": "python3"
  },
  "language_info": {
   "codemirror_mode": {
    "name": "ipython",
    "version": 3
   },
   "file_extension": ".py",
   "mimetype": "text/x-python",
   "name": "python",
   "nbconvert_exporter": "python",
   "pygments_lexer": "ipython3",
   "version": "3.11.11"
  },
  "papermill": {
   "default_parameters": {},
   "duration": 37275.673531,
   "end_time": "2025-05-22T19:14:50.877613",
   "environment_variables": {},
   "exception": null,
   "input_path": "__notebook__.ipynb",
   "output_path": "__notebook__.ipynb",
   "parameters": {},
   "start_time": "2025-05-22T08:53:35.204082",
   "version": "2.6.0"
  }
 },
 "nbformat": 4,
 "nbformat_minor": 5
}
